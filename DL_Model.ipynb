{
 "cells": [
  {
   "cell_type": "code",
   "execution_count": null,
   "metadata": {},
   "outputs": [],
   "source": [
    "gpu_info = !nvidia-smi\n",
    "gpu_info = '\\n'.join(gpu_info)\n",
    "if gpu_info.find('failed') >= 0:\n",
    "      print('Not connected to a GPU')\n",
    "else:\n",
    "      print(gpu_info)"
   ]
  },
  {
   "cell_type": "code",
   "execution_count": null,
   "metadata": {
    "id": "_2QgLqEa_otY"
   },
   "outputs": [],
   "source": [
    "import tensorflow.keras.backend as K\n",
    "\n",
    "from tensorflow.keras.models import Model\n",
    "from tensorflow.keras.layers import *\n",
    "from tensorflow.keras.layers import Activation, Add,DepthwiseConv2D, BatchNormalization, Concatenate, Conv2D, Dense,Dropout, GlobalAveragePooling2D, GlobalMaxPooling2D, Input, Lambda,LeakyReLU, MaxPooling2D, Multiply, Permute, Reshape, UpSampling2D\n",
    "import collections\n",
    "import tensorflow as tf\n",
    "from tensorflow.keras import regularizers\n",
    "from  tensorflow.keras.initializers import *\n",
    "# from keras_flops import get_flops"
   ]
  },
  {
   "cell_type": "code",
   "execution_count": null,
   "metadata": {},
   "outputs": [],
   "source": [
    "import tensorflow_addons as tfa\n",
    "gpus = tf.config.experimental.list_physical_devices('GPU')\n",
    "if gpus:\n",
    "    try:\n",
    "    # Currently, memory growth needs to be the same across GPUs\n",
    "        for gpu in gpus:\n",
    "            tf.config.experimental.set_memory_growth(gpu, True)\n",
    "        logical_gpus = tf.config.experimental.list_logical_devices('GPU')\n",
    "        print(len(gpus), \"Physical GPUs,\", len(logical_gpus), \"Logical GPUs\")\n",
    "    except RuntimeError as e:\n",
    "    # Memory growth must be set before GPUs have been initialized\n",
    "        print(e)\n",
    "\n",
    "print('TF Version:', tf.__version__)\n",
    "print('TFA Version:', tfa.__version__)"
   ]
  },
  {
   "cell_type": "code",
   "execution_count": null,
   "metadata": {
    "colab": {
     "base_uri": "https://localhost:8080/"
    },
    "id": "pAGBiEi8KAsT",
    "outputId": "27c639f8-346b-471c-b65f-4213a31309f9"
   },
   "outputs": [],
   "source": [
    "import numpy as np\n",
    "from tensorflow.keras.preprocessing.image import ImageDataGenerator\n",
    "# train_path = '/content/drive/MyDrive/Training'\n",
    "train_path = 'C:/Users/rajva/Downloads/deep learning/Training'\n",
    "# val_path = '/content/drive/MyDrive/Validation'\n",
    "val_path = 'C:/Users/rajva/Downloads/deep learning/Validation'\n",
    "# test_path = '/content/drive/MyDrive/Test'\n",
    "test_path = 'C:/Users/rajva/Downloads/deep learning/Test'\n",
    "batch_size = 4\n",
    "img_height = 224\n",
    "img_width = 224\n",
    "no_of_classes = 5\n",
    "classes_name = [0,1,2,3,4]\n",
    "input_shape = (img_height , img_width , 3)\n",
    "\n",
    "\n",
    "random_seed = np.random.seed(1142)\n",
    "\n",
    "datagen = ImageDataGenerator(\n",
    "    rescale=1. / 255,\n",
    "    featurewise_center=True,\n",
    "    horizontal_flip = False,\n",
    "    vertical_flip = False,\n",
    "    #validation_split = 0.1,\n",
    "    featurewise_std_normalization=True)\n",
    "\n",
    "train_generator = datagen.flow_from_directory(\n",
    "    train_path,\n",
    "    target_size=(img_height, img_width),\n",
    "    batch_size=batch_size,\n",
    "    shuffle = True,\n",
    "    class_mode='categorical')\n",
    "\n",
    "validation_generator = datagen.flow_from_directory(\n",
    "    val_path,\n",
    "    target_size=(img_height, img_width),\n",
    "    batch_size=batch_size,\n",
    "    shuffle = True,\n",
    "    class_mode='categorical')\n",
    "\n",
    "\n",
    "print(train_generator.class_indices)"
   ]
  },
  {
   "cell_type": "code",
   "execution_count": null,
   "metadata": {
    "id": "VNZ23AL1KAsU"
   },
   "outputs": [],
   "source": [
    "def se_block(block_input, num_filters, ratio=8):\n",
    "    pool1 = tf.keras.layers.GlobalAveragePooling2D()(block_input)\n",
    "    flat = tf.keras.layers.Reshape((1, 1, num_filters))(pool1)\n",
    "    dense1 = tf.keras.layers.Dense(num_filters//ratio, activation='relu')(flat)\n",
    "    dense2 = tf.keras.layers.Dense(num_filters, activation='sigmoid')(dense1)\n",
    "    scale = tf.keras.layers.multiply([block_input, dense2])\n",
    "\n",
    "    return scale\n",
    "\n",
    "\n",
    "def resnet_block(block_input, num_filters):\n",
    "    if tf.keras.backend.int_shape(block_input)[3] != num_filters:\n",
    "        block_input = tf.keras.layers.Conv2D(num_filters, kernel_size=(1, 1))(block_input)\n",
    "\n",
    "    conv1 = tf.keras.layers.Conv2D(num_filters, kernel_size=(3, 3), padding='same')(block_input)\n",
    "    norm1 = tf.keras.layers.BatchNormalization()(conv1)\n",
    "    relu1 = tf.keras.layers.Activation('relu')(norm1)\n",
    "    conv2 = tf.keras.layers.Conv2D(num_filters, kernel_size=(3, 3), padding='same')(relu1)\n",
    "    norm2 = tf.keras.layers.BatchNormalization()(conv2)\n",
    "\n",
    "    se = se_block(norm2, num_filters=num_filters)\n",
    "\n",
    "    sum = tf.keras.layers.Add()([block_input, se])\n",
    "    relu2 = tf.keras.layers.Activation('relu')(sum)\n",
    "\n",
    "    return relu2\n",
    "\n",
    "def se_resnet14():\n",
    "    input = tf.keras.layers.Input(shape=(224, 224, 3))\n",
    "    conv1 = tf.keras.layers.Conv2D(16, kernel_size=(7, 7), activation='relu', padding='same', kernel_initializer='he_normal')(input)\n",
    "\n",
    "    block1 = resnet_block(conv1, 16)\n",
    "    block2 = resnet_block(block1, 16)\n",
    "    block3 = resnet_block(block2,16)\n",
    "\n",
    "    pool1 = tf.keras.layers.MaxPooling2D((2, 2), (2,2))(block3)\n",
    "\n",
    "    block4 = resnet_block(pool1, 32)\n",
    "    block5 = resnet_block(block4, 32)\n",
    "    block6 = resnet_block(block5,32)\n",
    "\n",
    "    pool2 = tf.keras.layers.MaxPooling2D((2, 2), (2,2))(block6)\n",
    "\n",
    "    block7 = resnet_block(pool2, 64)\n",
    "    block8 = resnet_block(block7, 64)\n",
    "    block9 = resnet_block(block8,64)\n",
    "\n",
    "    global_pool = tf.keras.layers.GlobalAveragePooling2D()(block9)\n",
    "\n",
    "    output = tf.keras.layers.Dense(5, activation='softmax')(global_pool)\n",
    "\n",
    "    model = tf.keras.models.Model(inputs=input, outputs=output)\n",
    "    return model\n"
   ]
  },
  {
   "cell_type": "code",
   "execution_count": null,
   "metadata": {
    "colab": {
     "base_uri": "https://localhost:8080/"
    },
    "id": "yrKL52BPKAsV",
    "outputId": "0928e61e-7862-4603-c86c-4f3b0a279d64"
   },
   "outputs": [],
   "source": [
    "\n",
    "# adam = tf.keras.optimizers.Adam(lr = 0.0001)\n",
    "model_se = se_resnet14()\n",
    "model_se.compile(optimizer = 'adam' , loss = 'categorical_crossentropy' , metrics = [\"acc\"])\n",
    "model_se.summary()\n",
    "# flops = get_flops(model_se,batch_size=1)\n",
    "# print(f\"Flops:{flops/10**9:.03}G\")"
   ]
  },
  {
   "cell_type": "code",
   "execution_count": null,
   "metadata": {
    "colab": {
     "background_save": true,
     "base_uri": "https://localhost:8080/",
     "height": 211
    },
    "id": "QOnsHi9yKAsW",
    "outputId": "a60b4d1c-3e46-4ced-bf89-05020a421a3f"
   },
   "outputs": [],
   "source": [
    "reduce_lr = tf.keras.callbacks.ReduceLROnPlateau(monitor = 'val_acc' , mode='max' ,\n",
    "                                                  factor = 0.5 , patience = 5 , verbose=1 , cooldown = 1,\n",
    "                                                 min_delta = 0.0001)\n",
    "\n",
    "early_stop = tf.keras.callbacks.EarlyStopping(monitor='val_acc', min_delta=0.0001, patience=40, verbose=1,\n",
    "                                              mode = 'max', restore_best_weights = True)\n",
    "# check_path = 'E:/Grading_Files/comp/new_work_BHC_222.h5'\n",
    "check_path = 'C:/Users/rajva/Downloads/deep learning/Gradding/new_work_BHC_22222222.h5'\n",
    "checkpoint = tf.keras.callbacks.ModelCheckpoint(check_path, monitor = 'val_acc', verbose=1, save_best_only=True, save_weights_only=True, mode='max')\n",
    "\n",
    "\n",
    "history = model_se.fit_generator(train_generator , validation_data = validation_generator ,\n",
    "                                  steps_per_epoch= len(train_generator) ,\n",
    "                                  validation_steps = len(validation_generator)\n",
    "                                  ,epochs = 65,callbacks = [reduce_lr, early_stop, checkpoint] )\n",
    "# model_prop.load_weights('/content/drive/MyDrive/Major_project_data/Kidney_KMC/KMC_kidney_40x_dataset/Metrics/checkpoint_anirudh_7.h5')"
   ]
  },
  {
   "cell_type": "code",
   "execution_count": null,
   "metadata": {
    "id": "eF62-eg1KAsY"
   },
   "outputs": [],
   "source": [
    "model_se.load_weights('/content/drive/MyDrive/Paper/Weight/BHC/BHC.h5')"
   ]
  },
  {
   "cell_type": "code",
   "execution_count": null,
   "metadata": {
    "colab": {
     "base_uri": "https://localhost:8080/",
     "height": 573
    },
    "id": "52hMkin3KAsY",
    "outputId": "b947c8da-2933-403c-9661-2f919811bfa4"
   },
   "outputs": [],
   "source": [
    "import matplotlib.pyplot as plt\n",
    "plt.plot(a['loss'] , label = 'train_loss')\n",
    "plt.plot(a['val_loss'] , label = 'val_loss')\n",
    "plt.legend()\n",
    "plt.xlabel(\"No. of epochs\")\n",
    "plt.ylabel(\"Loss(Categorical Crossentropy)\")\n",
    "plt.title(\"Loss vs Epoch\")\n",
    "# plt.savefig('E:/Grading_Files/comp/plot/graph/91.69-Loss.png',bbox_inches='tight')\n",
    "plt.show()\n",
    "plt.plot(a['acc'] , label = 'train_acc')\n",
    "plt.plot(a['val_acc'] , label = 'val_acc')\n",
    "plt.legend()\n",
    "plt.xlabel(\"No. of epochs\")\n",
    "plt.ylabel(\"Accuracy\")\n",
    "plt.title(\"Accuracy vs Epoch \")\n",
    "# plt.savefig('E:/Grading_Files/comp/plot/graph/91.69-ACC.png',bbox_inches='tight')\n",
    "plt.show()"
   ]
  },
  {
   "cell_type": "code",
   "execution_count": null,
   "metadata": {},
   "outputs": [],
   "source": [
    "!pip install matplotlib\n"
   ]
  },
  {
   "cell_type": "code",
   "execution_count": null,
   "metadata": {
    "colab": {
     "base_uri": "https://localhost:8080/"
    },
    "id": "pM2TRGYLKAsY",
    "outputId": "3d09f35a-7c1d-42d2-e209-e741bcf82f1b"
   },
   "outputs": [],
   "source": [
    "test_d = ImageDataGenerator(rescale=1. / 255)\n",
    "test = test_d.flow_from_directory(\n",
    "    '/content/drive/MyDrive/Paper/KMC Dataset for grading/Test',\n",
    "    target_size=(224,224),\n",
    "    batch_size=1,\n",
    "    shuffle = False,\n",
    "    class_mode='categorical')"
   ]
  },
  {
   "cell_type": "code",
   "execution_count": null,
   "metadata": {
    "colab": {
     "base_uri": "https://localhost:8080/"
    },
    "id": "RvqPiPDnKAsZ",
    "outputId": "4f51f5d6-2c25-4daf-d6d3-f2b026c99781"
   },
   "outputs": [],
   "source": [
    "import numpy as np\n",
    "test_step = test.n//test.batch_size\n",
    "test.reset()\n",
    "pred = model_se.predict_generator(test , steps = test_step , verbose = 1)\n",
    "pred_class_indices = np.argmax(pred,axis=1)\n",
    "\n",
    "## printing predicted labels\n",
    "print(pred_class_indices)"
   ]
  },
  {
   "cell_type": "code",
   "execution_count": null,
   "metadata": {
    "colab": {
     "base_uri": "https://localhost:8080/"
    },
    "id": "ffk4CjiJKAsZ",
    "outputId": "77c85828-43fb-45fc-b06c-572093f87cec"
   },
   "outputs": [],
   "source": [
    "from sklearn.metrics import *\n",
    "classes = [0,1,2,3,4]\n",
    "\n",
    "\n",
    "for cl in classes:\n",
    "\n",
    "    print(\"class: \",cl)\n",
    "\n",
    "    a1 = np.uint8(test.labels == cl)\n",
    "    a2 = np.uint8(pred_class_indices == cl)\n",
    "\n",
    "    print('Accuracy {}'.format(accuracy_score(y_true=a1, y_pred=a2)))\n",
    "    print('F1 {}'.format(f1_score(y_true=a1, y_pred=a2)))\n",
    "    print('precision {}'.format(precision_score(y_true=a1, y_pred=a2)))\n",
    "    print('recall {}'.format(recall_score(y_true=a1, y_pred=a2)))\n",
    "\n",
    "    print('jaccard {}'.format(jaccard_score(y_true=a1, y_pred=a2)))\n",
    "    print(\"_______________________________\")"
   ]
  },
  {
   "cell_type": "code",
   "execution_count": null,
   "metadata": {
    "colab": {
     "base_uri": "https://localhost:8080/"
    },
    "id": "wXBwwPvsKAsa",
    "outputId": "87a055c8-d852-4fb7-b3b6-117ab0a0ed8d"
   },
   "outputs": [],
   "source": [
    "print('Accuracy {}'.format(accuracy_score(y_true=test.labels, y_pred=pred_class_indices)))\n",
    "print('F1 {}'.format(f1_score(y_true=test.labels, y_pred=pred_class_indices,average = \"macro\")))\n",
    "print('precision {}'.format(precision_score(y_true=test.labels, y_pred=pred_class_indices,average = \"macro\")))\n",
    "print('recall {}'.format(recall_score(y_true=test.labels, y_pred=pred_class_indices,average = \"macro\")))\n",
    "\n",
    "print('jaccard {}'.format(jaccard_score(y_true=test.labels, y_pred=pred_class_indices,average = \"macro\")))\n",
    "print('confusion_matrix\\n {}'.format(confusion_matrix(y_true=test.labels, y_pred=pred_class_indices)))\n",
    "print('classification_report\\n {}'.format(classification_report(y_true=test.labels, y_pred=pred_class_indices)))\n",
    "print('\\n\\n')"
   ]
  },
  {
   "cell_type": "code",
   "execution_count": null,
   "metadata": {},
   "outputs": [],
   "source": []
  }
 ],
 "metadata": {
  "accelerator": "GPU",
  "colab": {
   "gpuType": "T4",
   "provenance": []
  },
  "kernelspec": {
   "display_name": "Python 3 (ipykernel)",
   "language": "python",
   "name": "python3"
  },
  "language_info": {
   "codemirror_mode": {
    "name": "ipython",
    "version": 3
   },
   "file_extension": ".py",
   "mimetype": "text/x-python",
   "name": "python",
   "nbconvert_exporter": "python",
   "pygments_lexer": "ipython3",
   "version": "3.11.4"
  }
 },
 "nbformat": 4,
 "nbformat_minor": 4
}
